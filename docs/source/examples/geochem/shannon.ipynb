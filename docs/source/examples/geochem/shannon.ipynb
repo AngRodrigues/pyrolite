{
  "cells": [
    {
      "cell_type": "code",
      "execution_count": null,
      "metadata": {
        "collapsed": false
      },
      "outputs": [],
      "source": [
        "%matplotlib inline"
      ]
    },
    {
      "cell_type": "markdown",
      "metadata": {},
      "source": [
        "\nShannon Radii\n=============\n\n"
      ]
    },
    {
      "cell_type": "code",
      "execution_count": null,
      "metadata": {
        "collapsed": false
      },
      "outputs": [],
      "source": [
        "import matplotlib.pyplot as plt\nfrom pyrolite.geochem.ind import get_ionic_radii, REE\n\nREE_radii = get_ionic_radii(REE(), coordination=8, charge=3)\n\nfig, ax = plt.subplots(1)\nax.plot(REE_radii, c='k', marker='D')\nax.set_xticks(range(len(REE())))\nax.set_xticklabels(REE())\nax.set_ylabel('Ionic Radius ($\\AA$)')\nax.set_title('Rare Earth Element Shannon Ionic Radii')"
      ]
    },
    {
      "cell_type": "markdown",
      "metadata": {},
      "source": [
        ".. seealso:: `Pandas Lambda Ln(REE) Function <../lambdas/pandaslambdas.html>`__,\n             `Lambdas for Dimensional Reduction <../lambdas/lambdadimreduction.html>`__,\n             `REE Radii Plot <../plotting/REE_radii_plot.html>`__\n\n"
      ]
    }
  ],
  "metadata": {
    "kernelspec": {
      "display_name": "Python 3",
      "language": "python",
      "name": "python3"
    },
    "language_info": {
      "codemirror_mode": {
        "name": "ipython",
        "version": 3
      },
      "file_extension": ".py",
      "mimetype": "text/x-python",
      "name": "python",
      "nbconvert_exporter": "python",
      "pygments_lexer": "ipython3",
      "version": "3.6.7"
    }
  },
  "nbformat": 4,
  "nbformat_minor": 0
}