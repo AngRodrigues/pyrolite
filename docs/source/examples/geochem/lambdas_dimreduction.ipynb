{
  "cells": [
    {
      "cell_type": "code",
      "execution_count": null,
      "metadata": {
        "collapsed": false
      },
      "outputs": [],
      "source": [
        "%matplotlib inline"
      ]
    },
    {
      "cell_type": "markdown",
      "metadata": {},
      "source": [
        "\nlambdas: Dimensional Reduction\n===============================\n\nOrthogonal polynomial decomposition can be used for dimensional reduction of smooth\nfunction over an independent variable, producing an array of independent values\nrepresenting the relative weights for each order of component polynomial.\n\nIn geochemistry, the most applicable use case is for reduction Rare Earth Element (REE)\nprofiles. The REE are a collection of elements with broadly similar physicochemical\nproperties (the lanthanides), which vary with ionic radii. Given their similar behaviour\nand typically smooth function of normalised abundance vs. ionic radii, the REE profiles\nand their shapes can be effectively parameterised and dimensionally reduced (14 elements\nsummarised by 3-4 shape parameters).\n\nHere we generate some example data, reduce these to lambda values, and plot the\nresulting dimensionally reduced data.\n"
      ]
    },
    {
      "cell_type": "code",
      "execution_count": null,
      "metadata": {
        "collapsed": false
      },
      "outputs": [],
      "source": [
        "import numpy as np\nimport pandas as pd\nfrom pathlib import Path\nimport matplotlib.pyplot as plt\nfrom pyrolite.geochem.ind import REE, get_ionic_radii\nfrom pyrolite.plot.spider import REE_v_radii\nfrom pyrolite.util.math import lambdas, lambda_poly_func, OP_constants\n\n\nnp.random.seed(82)"
      ]
    },
    {
      "cell_type": "markdown",
      "metadata": {},
      "source": [
        "First we'll generate some example data:\n\n\n"
      ]
    },
    {
      "cell_type": "code",
      "execution_count": null,
      "metadata": {
        "collapsed": false
      },
      "outputs": [],
      "source": [
        "no_analyses = 1000\n\ndata_ree = REE(dropPm=True)\ndata_radii = np.array(get_ionic_radii(data_ree, charge=3, coordination=8))\ndata_radii = np.tile(data_radii, (1, no_analyses)).reshape(\n    no_analyses, data_radii.shape[0]\n)\n\nnoise = np.random.randn(*data_radii.shape) * 0.1\nconstant = -0.1\nlin = np.tile(np.linspace(3.0, 0.0, data_radii.shape[1]), (no_analyses, 1))\nlin = (lin.T * (1.1 + 0.4 * np.random.rand(data_radii.shape[0]))).T\nquad = -1.2 * (data_radii - 1.11) ** 2.0\n\nlnY = noise + constant + lin + quad\n\nfor ix, el in enumerate(data_ree):\n    if el in [\"Ce\", \"Eu\"]:\n        lnY[:, ix] += np.random.rand(no_analyses) * 0.6"
      ]
    },
    {
      "cell_type": "code",
      "execution_count": null,
      "metadata": {
        "collapsed": false
      },
      "outputs": [],
      "source": [
        "df = pd.DataFrame(np.exp(lnY), columns=data_ree)"
      ]
    },
    {
      "cell_type": "code",
      "execution_count": null,
      "metadata": {
        "collapsed": false
      },
      "outputs": [],
      "source": [
        "ax = df.pyroplot.REE(\n    marker=\"D\",\n    alpha=0.01,\n    c=\"0.5\",\n    markerfacecolor=\"k\",\n    markeredgecolor=\"k\",\n    index=\"elements\",\n)\nplt.show()"
      ]
    },
    {
      "cell_type": "markdown",
      "metadata": {},
      "source": [
        "From this data we can calculate and plot the lambda values:\n\n\n"
      ]
    },
    {
      "cell_type": "code",
      "execution_count": null,
      "metadata": {
        "collapsed": false
      },
      "outputs": [],
      "source": [
        "ls = df.pyrochem.lambda_lnREE(\n    exclude=[\"Ce\", \"Eu\", \"Pm\"], degree=4, norm_to=\"Chondrite_PON\"\n)"
      ]
    },
    {
      "cell_type": "code",
      "execution_count": null,
      "metadata": {
        "collapsed": false
      },
      "outputs": [],
      "source": [
        "fig, ax = plt.subplots(1, 3, figsize=(9, 3))\nax_labels = ls.columns\n\nfor ix in range(ls.columns.size - 1):\n    l1, l2 = ax_labels[ix], ax_labels[ix + 1]\n    ax[ix].scatter(ls[l1], ls[l2], alpha=0.1, c=\"k\")\n    ax[ix].set_xlabel(l1)\n    ax[ix].set_ylabel(l2)\n\nplt.tight_layout()\nfig.suptitle(\"lambdas for Dimensional Reduction\", y=1.05)"
      ]
    },
    {
      "cell_type": "markdown",
      "metadata": {},
      "source": [
        "For more on using orthogonal polynomials to describe geochemical pattern data, see:\nO\u2019Neill, H.S.C., 2016. The Smoothness and Shapes of Chondrite-normalized Rare Earth\nElement Patterns in Basalts. J Petrology 57, 1463\u20131508.\n`doi: 10.1093/petrology/egw047 <https://doi.org/10.1093/petrology/egw047>`__.\n\n.. seealso::\n\n  Examples:\n    `Visualising Orthogonal Polynomials <lambdavis.html>`__\n\n"
      ]
    }
  ],
  "metadata": {
    "kernelspec": {
      "display_name": "Python 3",
      "language": "python",
      "name": "python3"
    },
    "language_info": {
      "codemirror_mode": {
        "name": "ipython",
        "version": 3
      },
      "file_extension": ".py",
      "mimetype": "text/x-python",
      "name": "python",
      "nbconvert_exporter": "python",
      "pygments_lexer": "ipython3",
      "version": "3.7.4"
    }
  },
  "nbformat": 4,
  "nbformat_minor": 0
}