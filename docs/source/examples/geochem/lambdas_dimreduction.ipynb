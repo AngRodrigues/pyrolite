{
  "cells": [
    {
      "cell_type": "code",
      "execution_count": null,
      "metadata": {
        "collapsed": false
      },
      "outputs": [],
      "source": [
        "%matplotlib inline"
      ]
    },
    {
      "cell_type": "markdown",
      "metadata": {},
      "source": [
        "\nlambdas: Dimensional Reduction\n===============================\n\nOrthogonal polynomial decomposition can be used for dimensional reduction of smooth\nfunction over an independent variable, producing an array of independent values\nrepresenting the relative weights for each order of component polynomial.\n\nIn geochemistry, the most applicable use case is for reduction Rare Earth Element (REE)\nprofiles. The REE are a collection of elements with broadly similar physicochemical\nproperties (the lanthanides), which vary with ionic radii. Given their similar behaviour\nand typically smooth function of normalised abundance vs. ionic radii, the REE profiles\nand their shapes can be effectively parameterised and dimensionally reduced (14 elements\nsummarised by 3-4 shape parameters).\n\nHere we generate some example data, reduce these to lambda values, and plot the\nresulting dimensionally reduced data.\n\n"
      ]
    },
    {
      "cell_type": "code",
      "execution_count": null,
      "metadata": {
        "collapsed": false
      },
      "outputs": [],
      "source": [
        "import numpy as np\nimport pandas as pd\nfrom pathlib import Path\nimport matplotlib.pyplot as plt\nfrom pyrolite.geochem.ind import REE, get_ionic_radii\nfrom pyrolite.plot.spider import REE_v_radii\nfrom pyrolite.util.math import lambdas, lambda_poly_func, OP_constants\n\nnp.random.seed(82)"
      ]
    },
    {
      "cell_type": "markdown",
      "metadata": {},
      "source": [
        "First we'll generate some example data:\n\n\n"
      ]
    },
    {
      "cell_type": "code",
      "execution_count": null,
      "metadata": {
        "collapsed": false
      },
      "outputs": [],
      "source": [
        "no_analyses = 1000\n\ndata_ree = REE(dropPm=True)\ndata_radii = np.array(get_ionic_radii(data_ree, charge=3, coordination=8))\ndata_radii = np.tile(data_radii, (1, no_analyses)).reshape(\n    no_analyses, data_radii.shape[0]\n)\n\nnoise = np.random.randn(*data_radii.shape) * 0.1\nconstant = -0.1\nlin = np.tile(np.linspace(3.0, 0.0, data_radii.shape[1]), (no_analyses, 1))\nlin = (lin.T * (1.1 + 0.4 * np.random.rand(data_radii.shape[0]))).T\nquad = -1.2 * (data_radii - 1.11) ** 2.0\n\nlnY = noise + constant + lin + quad\n\nfor ix, el in enumerate(data_ree):\n    if el in [\"Ce\", \"Eu\"]:\n        lnY[:, ix] += np.random.rand(no_analyses) * 0.6\n\nY = np.exp(lnY)\n\nax = REE_v_radii(\n    Y,\n    ree=data_ree,\n    marker=\"D\",\n    alpha=0.01,\n    color=\"0.5\",\n    markerfacecolor=\"k\",\n    index=\"elements\",\n)\nplt.show()"
      ]
    },
    {
      "cell_type": "markdown",
      "metadata": {},
      "source": [
        "From this data we can calculate and plot the lambda values:\n\n\n"
      ]
    },
    {
      "cell_type": "code",
      "execution_count": null,
      "metadata": {
        "collapsed": false
      },
      "outputs": [],
      "source": [
        "lambda_degree = 4\n\nexclude = [\"Ce\", \"Eu\", \"Pm\"]\nif exclude:\n    subset_Y = Y[:, [i not in exclude for i in data_ree]]\n    subset_ree = [i for i in REE() if not i in exclude]\n    subset_radii = np.array(get_ionic_radii(subset_ree, charge=3, coordination=8))\n\nparams = OP_constants(subset_radii, degree=lambda_degree)\n\nls = np.apply_along_axis(\n    lambda x: lambdas(x, subset_radii, params=params, degree=4), 1, np.log(subset_Y)\n)"
      ]
    },
    {
      "cell_type": "code",
      "execution_count": null,
      "metadata": {
        "collapsed": false
      },
      "outputs": [],
      "source": [
        "fig, ax = plt.subplots(1, lambda_degree - 1, figsize=(9, 3))\nax_labels = [chr(955) + \"$_{}$\".format(str(d)) for d in range(lambda_degree)]\n\nfor ix in range(lambda_degree - 1):\n    ax[ix].scatter(ls[:, ix], ls[:, ix + 1], alpha=0.1, c=\"k\")\n    ax[ix].set_xlabel(ax_labels[ix])\n    ax[ix].set_ylabel(ax_labels[ix + 1])\n\nplt.tight_layout()\nfig.suptitle(\"lambdas for Dimensional Reduction\", y=1.05)"
      ]
    },
    {
      "cell_type": "markdown",
      "metadata": {},
      "source": [
        "For more on using orthogonal polynomials to describe geochemical pattern data, see:\nO\u2019Neill, H.S.C., 2016. The Smoothness and Shapes of Chondrite-normalized Rare Earth\nElement Patterns in Basalts. J Petrology 57, 1463\u20131508.\n`doi: 10.1093/petrology/egw047 <https://doi.org/10.1093/petrology/egw047>`__.\n\n.. seealso::\n\n  Examples:\n    `Visualising Orthogonal Polynomials <lambdavis.html>`__,\n    `Pandas Lambda Ln(REE) Function <pandaslambdas.html>`__\n\n"
      ]
    }
  ],
  "metadata": {
    "kernelspec": {
      "display_name": "Python 3",
      "language": "python",
      "name": "python3"
    },
    "language_info": {
      "codemirror_mode": {
        "name": "ipython",
        "version": 3
      },
      "file_extension": ".py",
      "mimetype": "text/x-python",
      "name": "python",
      "nbconvert_exporter": "python",
      "pygments_lexer": "ipython3",
      "version": "3.6.7"
    }
  },
  "nbformat": 4,
  "nbformat_minor": 0
}