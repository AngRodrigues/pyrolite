{
  "cells": [
    {
      "cell_type": "code",
      "execution_count": null,
      "metadata": {
        "collapsed": false
      },
      "outputs": [],
      "source": [
        "%matplotlib inline"
      ]
    },
    {
      "cell_type": "markdown",
      "metadata": {},
      "source": [
        "\nlambdas: Visualising Orthogonal Polynomials\n============================================\n\n"
      ]
    },
    {
      "cell_type": "code",
      "execution_count": null,
      "metadata": {
        "collapsed": false
      },
      "outputs": [],
      "source": [
        "import numpy as np\nimport matplotlib.pyplot as plt\nfrom pyrolite.plot.spider import REE_v_radii\nfrom pyrolite.geochem.ind import REE, get_ionic_radii\nfrom pyrolite.util.math import lambdas, lambda_poly_func, OP_constants\n\nnp.random.seed(82)\n\n\ndef plot_orthagonal_polynomial_components(ax, xs, lambdas, params, log=False, **kwargs):\n    \"\"\"Plot polynomials on an axis over x values.\"\"\"\n    for w, p in zip(lambdas, params):  # plot the polynomials\n        f = np.ones_like(xs) * w\n        for c in p:\n            f *= xs - np.float(c)\n        if log:\n            f = np.exp(f)\n\n        label = (\n            \"$r^{}: \\lambda_{}\".format(len(p), len(p))\n            + [\"\\cdot f_{}\".format(len(p)), \"\"][int(len(p) == 0)]\n            + \"$\"\n        )\n        ax.plot(xs, f, label=label, **kwargs)"
      ]
    },
    {
      "cell_type": "markdown",
      "metadata": {},
      "source": [
        "First we generate some example data:\n\n\n"
      ]
    },
    {
      "cell_type": "code",
      "execution_count": null,
      "metadata": {
        "collapsed": false
      },
      "outputs": [],
      "source": [
        "data_ree = REE(dropPm=True)\ndata_radii = np.array(get_ionic_radii(data_ree, charge=3, coordination=8))\nlnY = (\n    np.random.randn(*data_radii.shape) * 0.1\n    + np.linspace(3.0, 0.0, data_radii.size)\n    + (data_radii - 1.11) ** 2.0\n    - 0.1\n)\n\nfor ix, el in enumerate(data_ree):\n    if el in [\"Ce\", \"Eu\"]:\n        lnY[ix] += np.random.randn(1) * 0.6\n\nY = np.exp(lnY)"
      ]
    },
    {
      "cell_type": "markdown",
      "metadata": {},
      "source": [
        "Now we can calculate the lambdas:\n\n\n"
      ]
    },
    {
      "cell_type": "code",
      "execution_count": null,
      "metadata": {
        "collapsed": false
      },
      "outputs": [],
      "source": [
        "exclude = [\"Ce\", \"Eu\"]\nif exclude:\n    subset_ree = [i for i in data_ree if not i in exclude]\n    subset_Y = Y[[i in subset_ree for i in data_ree]]\n    subset_radii = np.array(get_ionic_radii(subset_ree, charge=3, coordination=8))\nelse:\n    subset_Y, subset_ree, subset_radii = Y, data_ree, data_radii\n\nparams = OP_constants(subset_radii, degree=4)\nls = lambdas(np.log(subset_Y), subset_radii, params=params, degree=4)\ncontinuous_radii = np.linspace(subset_radii[0], subset_radii[-1], 20)\nl_func = lambda_poly_func(ls, pxs=subset_radii, params=params)\nsmooth_profile = np.exp(l_func(continuous_radii))"
      ]
    },
    {
      "cell_type": "code",
      "execution_count": null,
      "metadata": {
        "collapsed": false
      },
      "outputs": [],
      "source": [
        "ax = REE_v_radii(Y, ree=data_ree, index=\"radii\", color=\"0.8\", label=\"Data\")\nREE_v_radii(\n    subset_Y,\n    ree=subset_ree,\n    ax=ax,\n    index=\"radii\",\n    color=\"k\",\n    linewidth=0,\n    label=\"Subset\",\n)\nplot_orthagonal_polynomial_components(ax, continuous_radii, ls, params, log=True)\nax.plot(continuous_radii, smooth_profile, label=\"Reconstructed\\nProfile\", c=\"k\", lw=2)\nax.legend(frameon=False, facecolor=None, bbox_to_anchor=(1, 1))\nplt.show()"
      ]
    },
    {
      "cell_type": "markdown",
      "metadata": {},
      "source": [
        "For more on using orthogonal polynomials to describe geochemical pattern data, see:\nO\u2019Neill, H.S.C., 2016. The Smoothness and Shapes of Chondrite-normalized Rare Earth\nElement Patterns in Basalts. J Petrology 57, 1463\u20131508.\n`doi: 10.1093/petrology/egw047 <https://doi.org/10.1093/petrology/egw047>`__.\n\n.. seealso::\n\n  Examples:\n    `Dimensional Reduction <lambdadimreduction.html>`__,\n    `REE Radii Plot <../plotting/REE_v_radii.html>`__\n\n"
      ]
    }
  ],
  "metadata": {
    "kernelspec": {
      "display_name": "Python 3",
      "language": "python",
      "name": "python3"
    },
    "language_info": {
      "codemirror_mode": {
        "name": "ipython",
        "version": 3
      },
      "file_extension": ".py",
      "mimetype": "text/x-python",
      "name": "python",
      "nbconvert_exporter": "python",
      "pygments_lexer": "ipython3",
      "version": "3.6.7"
    }
  },
  "nbformat": 4,
  "nbformat_minor": 0
}