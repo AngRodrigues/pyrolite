{
  "cells": [
    {
      "cell_type": "code",
      "execution_count": null,
      "metadata": {
        "collapsed": false
      },
      "outputs": [],
      "source": [
        "%matplotlib inline"
      ]
    },
    {
      "cell_type": "markdown",
      "metadata": {},
      "source": [
        "\nTAS Classifier\n==============\n\nSome simple discrimination methods are implemented,\nincluding the Total Alkali-Silica (TAS) classification.\n"
      ]
    },
    {
      "cell_type": "code",
      "execution_count": null,
      "metadata": {
        "collapsed": false
      },
      "outputs": [],
      "source": [
        "import numpy as np\nimport pandas as pd\nimport matplotlib.pyplot as plt\nfrom pyrolite.util.classification import Geochemistry\nfrom pyrolite.util.synthetic import test_df, random_cov_matrix"
      ]
    },
    {
      "cell_type": "markdown",
      "metadata": {},
      "source": [
        "We'll first generate some synthetic data to play with:\n\n\n"
      ]
    },
    {
      "cell_type": "code",
      "execution_count": null,
      "metadata": {
        "collapsed": false
      },
      "outputs": [],
      "source": [
        "mean = np.array([49, 11, 15, 4, 0.5, 4, 1.5])\ndf = (\n    test_df(\n        cols=[\"SiO2\", \"CaO\", \"MgO\", \"FeO\", \"TiO2\", \"Na2O\", \"K2O\"],\n        mean=mean,\n        index_length=100,\n        seed=82,\n    )\n    * mean.sum()\n)\n\ndf.head(3)"
      ]
    },
    {
      "cell_type": "markdown",
      "metadata": {},
      "source": [
        "We can visualise how this chemistry corresponds to the TAS diagram:\n\n\n"
      ]
    },
    {
      "cell_type": "code",
      "execution_count": null,
      "metadata": {
        "collapsed": false
      },
      "outputs": [],
      "source": [
        "from pyrolite.util.classification import Geochemistry\n\ndf[\"TotalAlkali\"] = df[\"Na2O\"] + df[\"K2O\"]\ncm = Geochemistry.TAS()\n\nfig, ax = plt.subplots(1)\n\nax.scatter(df[\"SiO2\"], df[\"TotalAlkali\"], c=\"k\", alpha=0.2)\ncm.add_to_axes(ax, alpha=0.5, zorder=-1)"
      ]
    },
    {
      "cell_type": "markdown",
      "metadata": {},
      "source": [
        "We can now classify this data according to the fields of the TAS diagram, and\nadd this as a column to the dataframe. Similarly, we can extract which rock names\nthe TAS fields correspond to:\n\n\n"
      ]
    },
    {
      "cell_type": "code",
      "execution_count": null,
      "metadata": {
        "collapsed": false
      },
      "outputs": [],
      "source": [
        "df[\"TAS\"] = cm.classify(df)\ndf[\"Rocknames\"] = df.TAS.apply(\n    lambda x: cm.clsf.fields.get(x, {\"names\": None})[\"names\"]\n)\ndf[\"TAS\"].unique()"
      ]
    },
    {
      "cell_type": "markdown",
      "metadata": {},
      "source": [
        "We could now take the TAS classes and use them to colorize our points for plotting\non the TAS diagram, or more likely, on another plot. Here the relationship to the\nTAS diagram is illustrated:\n\n\n"
      ]
    },
    {
      "cell_type": "code",
      "execution_count": null,
      "metadata": {
        "collapsed": false
      },
      "outputs": [],
      "source": [
        "colorize = {field: plt.cm.tab10(ix) for ix, field in enumerate(df[\"TAS\"].unique())}\n\nfig, ax = plt.subplots(1)\n\nax.scatter(\n    df[\"SiO2\"], df[\"TotalAlkali\"], c=df[\"TAS\"].apply(lambda x: colorize[x]), alpha=0.7\n)\ncm.add_to_axes(ax, alpha=0.5, zorder=-1)"
      ]
    }
  ],
  "metadata": {
    "kernelspec": {
      "display_name": "Python 3",
      "language": "python",
      "name": "python3"
    },
    "language_info": {
      "codemirror_mode": {
        "name": "ipython",
        "version": 3
      },
      "file_extension": ".py",
      "mimetype": "text/x-python",
      "name": "python",
      "nbconvert_exporter": "python",
      "pygments_lexer": "ipython3",
      "version": "3.7.4"
    }
  },
  "nbformat": 4,
  "nbformat_minor": 0
}