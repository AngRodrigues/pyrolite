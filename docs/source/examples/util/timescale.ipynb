{
  "cells": [
    {
      "cell_type": "code",
      "execution_count": null,
      "metadata": {
        "collapsed": false
      },
      "outputs": [],
      "source": [
        "%matplotlib inline"
      ]
    },
    {
      "cell_type": "markdown",
      "metadata": {},
      "source": [
        "\nGeological Timescale\n======================\n\npyrolite includes a simple geological timescale, based on a recent verion\nof the International Chronostratigraphic Chart [#ICS]_. The\n:class:`~pyrolite.util.time.Timescale` class can be used to look up names for\nspecific geological ages, to look up times for known geological age names\nand to access a reference table for all of these.\n\n.. [#ICS] Cohen, K.M., Finney, S.C., Gibbard, P.L., Fan, J.-X., 2013.\n    `The ICS International Chronostratigraphic Chart <http://www.stratigraphy.org/index.php/ics-chart-timescale>`__.\n    Episodes 36, 199\u2013204.\n\n"
      ]
    },
    {
      "cell_type": "markdown",
      "metadata": {},
      "source": [
        "First we'll create a timescale:\n\n\n"
      ]
    },
    {
      "cell_type": "code",
      "execution_count": null,
      "metadata": {
        "collapsed": false
      },
      "outputs": [],
      "source": [
        "from pyrolite.util.time import Timescale\n\nts = Timescale()"
      ]
    },
    {
      "cell_type": "markdown",
      "metadata": {},
      "source": [
        "From this we can look up the names of ages (in million years, or Ma):\n\n\n"
      ]
    },
    {
      "cell_type": "code",
      "execution_count": null,
      "metadata": {
        "collapsed": false
      },
      "outputs": [],
      "source": [
        "ts.named_age(1212.1)"
      ]
    },
    {
      "cell_type": "markdown",
      "metadata": {},
      "source": [
        "As geological age names are hierarchical, the name you give an age depends on what\nlevel you're looking at. By default, the timescale will return the most specific\nnon-null level. The levels accessible within the timescale are listed\nas an attribute:\n\n\n"
      ]
    },
    {
      "cell_type": "code",
      "execution_count": null,
      "metadata": {
        "collapsed": false
      },
      "outputs": [],
      "source": [
        "ts.levels"
      ]
    },
    {
      "cell_type": "markdown",
      "metadata": {},
      "source": [
        "These can be used to refine the output names to your desired level of specificity\n(noting that for some ages, the levels which are accessible can differ; see the chart):\n\n\n"
      ]
    },
    {
      "cell_type": "code",
      "execution_count": null,
      "metadata": {
        "collapsed": false
      },
      "outputs": [],
      "source": [
        "ts.named_age(1212.1, level=\"Epoch\")"
      ]
    },
    {
      "cell_type": "markdown",
      "metadata": {},
      "source": [
        "The timescale can also do the inverse for you, and return the timing information for a\ngiven named age:\n\n"
      ]
    },
    {
      "cell_type": "code",
      "execution_count": null,
      "metadata": {
        "collapsed": false
      },
      "outputs": [],
      "source": [
        "ts.text2age(\"Holocene\")"
      ]
    },
    {
      "cell_type": "markdown",
      "metadata": {},
      "source": [
        "We can use this to create a simple template to visualise the geological timescale\n(noting that the the official colours have not yet been implemented):\n\n\n"
      ]
    },
    {
      "cell_type": "code",
      "execution_count": null,
      "metadata": {
        "collapsed": false
      },
      "outputs": [],
      "source": [
        "import matplotlib.pyplot as plt\n\ndf = ts.data\nfig, ax = plt.subplots(1, figsize=(5, 10))\n\nfor ix, level in enumerate(ts.levels):\n    ldf = df.loc[df.Level == level, :]\n    for r in ldf.index:\n        rdf = ldf.loc[r, :]\n        duration = rdf.Start - rdf.End\n        ax.bar(ix, duration, bottom=rdf.End, width=1, edgecolor=\"k\")\n\nax.set_xticks(range(len(ts.levels)))\nax.set_xticklabels(ts.levels, rotation=60)\nax.xaxis.set_ticks_position(\"top\")\nax.set_ylabel(\"Age (Ma)\")\nax.invert_yaxis()"
      ]
    }
  ],
  "metadata": {
    "kernelspec": {
      "display_name": "Python 3",
      "language": "python",
      "name": "python3"
    },
    "language_info": {
      "codemirror_mode": {
        "name": "ipython",
        "version": 3
      },
      "file_extension": ".py",
      "mimetype": "text/x-python",
      "name": "python",
      "nbconvert_exporter": "python",
      "pygments_lexer": "ipython3",
      "version": "3.6.7"
    }
  },
  "nbformat": 4,
  "nbformat_minor": 0
}