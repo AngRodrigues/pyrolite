{
  "cells": [
    {
      "cell_type": "code",
      "execution_count": null,
      "metadata": {
        "collapsed": false
      },
      "outputs": [],
      "source": [
        "%matplotlib inline"
      ]
    },
    {
      "cell_type": "markdown",
      "metadata": {},
      "source": [
        "\nCompositional Data Imputation\n-----------------------------\n\npyrolite includes the :func:`~pyrolite.comp.impute.EMCOMP` compositional missing data\nimputation algorithm of Palarea-Albaladejo and Mart\u00edn-Fern\u00e1ndez (2008).\nThis algorithm imputes 'below-detection' data based on specified proportion thresholds.\n\n<div class=\"alert alert-info\"><h4>Note</h4><p>This example and features in this module are currently incomplete and a work in progress.</p></div>\n\n"
      ]
    },
    {
      "cell_type": "code",
      "execution_count": null,
      "metadata": {
        "collapsed": false
      },
      "outputs": [],
      "source": [
        "import numpy as np\nimport pandas as pd\nimport matplotlib.pyplot as plt\nfrom pyrolite.comp.impute import EMCOMP\nfrom pyrolite.util.synthetic import random_composition, random_cov_matrix\nfrom pyrolite.plot import pyroplot\n\nnp.random.seed(41)"
      ]
    },
    {
      "cell_type": "code",
      "execution_count": null,
      "metadata": {
        "collapsed": false
      },
      "outputs": [],
      "source": [
        "sample_data = random_composition(\n    size=1000,\n    D=4,\n    cov=random_cov_matrix(3, sigmas=[0.1, 0.3, 0.15]),\n    propnan=0.1,\n    missing=\"MNAR\",\n    missingcols=3,\n)"
      ]
    },
    {
      "cell_type": "code",
      "execution_count": null,
      "metadata": {
        "collapsed": false
      },
      "outputs": [],
      "source": [
        "imputed_data, p0, niter = EMCOMP(\n    sample_data, threshold=np.nanpercentile(sample_data, 10, axis=0), tol=0.01\n)\nimputed_data = pd.DataFrame(imputed_data, columns=[\"A\", \"B\", \"C\", \"D\"])"
      ]
    },
    {
      "cell_type": "code",
      "execution_count": null,
      "metadata": {
        "collapsed": false
      },
      "outputs": [],
      "source": [
        "fig, ax = plt.subplots(1, 3, sharex=True, sharey=True, figsize=(12, 5))\n\nax[0].set_title(\"Original Data\")\nax[1].set_title(\"New Imputed Data\")\nax[2].set_title(\"Imputed Dataset\")\nfltr = (np.isfinite(sample_data).sum(axis=1)) == sample_data.shape[1]\nimputed_data.loc[fltr, [\"A\", \"B\", \"C\"]].pyroplot.scatter(\n    marker=\"D\", color=\"0.5\", alpha=0.1, ax=ax[0], no_ticks=True\n)\nimputed_data.loc[~fltr, [\"A\", \"B\", \"C\"]].pyroplot.scatter(\n    marker=\"D\", color=\"r\", alpha=0.1, ax=ax[1], no_ticks=True\n)\nimputed_data.loc[:, [\"A\", \"B\", \"C\"]].pyroplot.scatter(\n    marker=\"D\", color=\"k\", alpha=0.1, ax=ax[2], no_ticks=True\n)"
      ]
    },
    {
      "cell_type": "code",
      "execution_count": null,
      "metadata": {
        "collapsed": false
      },
      "outputs": [],
      "source": [
        "import scipy.stats\n\nfig, ax = plt.subplots(1)\nsigma = 0.1\ndif = np.random.randn(15)\nSD = np.sort(dif / sigma)\n\u03d5 = scipy.stats.norm.pdf(SD, loc=0, scale=1)\n\u03a6 = scipy.stats.norm.cdf(SD, loc=0, scale=1)\nax.plot(SD, \u03d5, color=\"0.5\", ls=\"-.\", label=\"PDF\")\nax.plot(SD, \u03a6, color=\"0.5\", label=\"CDF\")\nax2 = ax.twinx()\nax2.plot(SD, \u03d5 / \u03a6, color=\"k\", label=\"PDF/CDF\")  # pdf / cdf\nax2.scatter(SD, sigma * \u03d5 / \u03a6, color=\"k\", label=\"D\")\nax.legend(frameon=False, facecolor=None)\nax2.legend(frameon=False, facecolor=None)\nax.set_yscale(\"log\")\nplt.show()"
      ]
    }
  ],
  "metadata": {
    "kernelspec": {
      "display_name": "Python 3",
      "language": "python",
      "name": "python3"
    },
    "language_info": {
      "codemirror_mode": {
        "name": "ipython",
        "version": 3
      },
      "file_extension": ".py",
      "mimetype": "text/x-python",
      "name": "python",
      "nbconvert_exporter": "python",
      "pygments_lexer": "ipython3",
      "version": "3.6.7"
    }
  },
  "nbformat": 4,
  "nbformat_minor": 0
}