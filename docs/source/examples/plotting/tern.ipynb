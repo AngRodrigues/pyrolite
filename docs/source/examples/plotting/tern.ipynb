{
  "cells": [
    {
      "cell_type": "code",
      "execution_count": null,
      "metadata": {
        "collapsed": false
      },
      "outputs": [],
      "source": [
        "%matplotlib inline"
      ]
    },
    {
      "cell_type": "markdown",
      "metadata": {},
      "source": [
        "\nTernary Plots\n=============\n\n<div class=\"alert alert-info\"><h4>Note</h4><p>This is a thin wrapper around Marc Harper's\n    `python-ternary <https://github.com/marcharper/python-ternary>`__ package. This may\n    change in the near future as needs change, but works well for scatter plots.</p></div>\n\n"
      ]
    },
    {
      "cell_type": "code",
      "execution_count": null,
      "metadata": {
        "collapsed": false
      },
      "outputs": [],
      "source": [
        "import pandas as pd\nimport numpy as np\nimport matplotlib.pyplot as plt\nfrom pyrolite.plot import pyroplot\nfrom pyrolite.plot.tern import ternary\n\nnp.random.seed(82)"
      ]
    },
    {
      "cell_type": "markdown",
      "metadata": {},
      "source": [
        "Let's first create some example data:\n\n\n"
      ]
    },
    {
      "cell_type": "code",
      "execution_count": null,
      "metadata": {
        "collapsed": false
      },
      "outputs": [],
      "source": [
        "oxs = [\"SiO2\", \"MgO\", \"CaO\"]\nys = np.random.rand(3, len(oxs))\nys = np.exp(ys)\ndf = pd.DataFrame(data=ys, columns=oxs)\ndf.loc[:, [\"SiO2\", \"MgO\", \"CaO\"]]\n# plot\nax = ternary(df.loc[:, [\"SiO2\", \"MgO\", \"CaO\"]].values, color=\"k\")\n# or, alternatively directly from the dataframe:\nax = df.loc[:, [\"SiO2\", \"MgO\", \"CaO\"]].pyroplot.ternary(color=\"k\")\nplt.show()"
      ]
    },
    {
      "cell_type": "markdown",
      "metadata": {},
      "source": [
        "The plotting axis can be specified to use exisiting axes:\n\n\n"
      ]
    },
    {
      "cell_type": "code",
      "execution_count": null,
      "metadata": {
        "collapsed": false
      },
      "outputs": [],
      "source": [
        "fig, ax = plt.subplots(1, 2, sharex=True, sharey=True, figsize=(12, 5))\n\ndf.loc[0, [\"SiO2\", \"MgO\", \"CaO\"]].pyroplot.ternary(ax=ax[0], color=\"k\")\ndf.loc[1:, [\"SiO2\", \"MgO\", \"CaO\"]].pyroplot.ternary(ax=ax[1], color=\"k\")\n\nplt.tight_layout()"
      ]
    },
    {
      "cell_type": "markdown",
      "metadata": {},
      "source": [
        ".. seealso:: `Heatscatter Plots <heatscatter.html>`__,\n             `Density Plots <density.html>`__,\n             `Spider Density Diagrams <conditionaldensity.html>`__\n\n"
      ]
    }
  ],
  "metadata": {
    "kernelspec": {
      "display_name": "Python 3",
      "language": "python",
      "name": "python3"
    },
    "language_info": {
      "codemirror_mode": {
        "name": "ipython",
        "version": 3
      },
      "file_extension": ".py",
      "mimetype": "text/x-python",
      "name": "python",
      "nbconvert_exporter": "python",
      "pygments_lexer": "ipython3",
      "version": "3.6.7"
    }
  },
  "nbformat": 4,
  "nbformat_minor": 0
}