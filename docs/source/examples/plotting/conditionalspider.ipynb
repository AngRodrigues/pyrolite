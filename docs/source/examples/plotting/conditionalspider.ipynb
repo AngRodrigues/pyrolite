{
  "cells": [
    {
      "cell_type": "code",
      "execution_count": null,
      "metadata": {
        "collapsed": false
      },
      "outputs": [],
      "source": [
        "%matplotlib inline"
      ]
    },
    {
      "cell_type": "markdown",
      "metadata": {},
      "source": [
        "\nConditional Density Spiderplots\n==================================\n\nThe spiderplot can be extended to provide visualisations of ranges and density via the\nvarious modes:\n\n"
      ]
    },
    {
      "cell_type": "code",
      "execution_count": null,
      "metadata": {
        "collapsed": false
      },
      "outputs": [],
      "source": [
        "import numpy as np\nimport pandas as pd\nimport matplotlib.pyplot as plt\nfrom pyrolite.plot import pyroplot\nfrom pyrolite.plot.spider import spider\nfrom pyrolite.geochem.ind import REE\nfrom pyrolite.geochem.norm import get_reference_composition\nimport logging\n\nrn = get_reference_composition(\"EMORB_SM89\")  # emorb composition as a starting point\nrn.set_units(\"ppm\")\ndata = rn.comp[REE(dropPm=True)]"
      ]
    },
    {
      "cell_type": "code",
      "execution_count": null,
      "metadata": {
        "collapsed": false
      },
      "outputs": [],
      "source": [
        "nindex, nobs = data.size, 120\nss = [0.1, 0.2, 0.5]  # sigmas for noise\n\nmodes = [\n    (\"plot\", \"plot\", [], dict(color=\"k\", alpha=0.01)),\n    (\"fill\", \"fill\", [], dict(color=\"k\", alpha=0.5)),\n    (\"binkde\", \"binkde\", [], dict(resolution=10)),\n    (\n        \"binkde\",\n        \"binkde contours specified\",\n        [],\n        dict(contours=[0.95], resolution=10),  # 95th percentile contour\n    ),\n    (\"histogram\", \"histogram\", [], dict(resolution=5, ybins=30)),\n]"
      ]
    },
    {
      "cell_type": "code",
      "execution_count": null,
      "metadata": {
        "collapsed": false
      },
      "outputs": [],
      "source": [
        "fig, ax = plt.subplots(\n    len(modes), len(ss), sharey=True, figsize=(len(ss) * 3, 2 * len(modes))\n)\nax[0, 0].set_ylim((0.1, 100))\n\nfor a, (m, name, args, kwargs) in zip(ax, modes):\n    a[0].annotate(  # label the axes rows\n        \"Mode: {}\".format(name),\n        xy=(0.1, 1.05),\n        xycoords=a[0].transAxes,\n        fontsize=8,\n        ha=\"left\",\n        va=\"bottom\",\n    )\n\nstart = data.pyrochem.normalize_to(\"PM_PON\", units=\"ppm\").applymap(np.log)\nfor ix, s in enumerate(ss):\n    x = np.arange(nindex)\n    y = np.tile(start.values, nobs).reshape(nobs, nindex)\n    y += np.random.normal(0, s / 2.0, size=(nobs, nindex))  # noise\n    y += np.random.normal(0, s, size=(1, nobs)).T  # random pattern offset\n\n    df = pd.DataFrame(y, columns=data.columns)\n    df[\"Eu\"] += 1.0  # significant offset\n    df = df.applymap(np.exp)\n    for mix, (m, name, args, kwargs) in enumerate(modes):\n        df.pyroplot.spider(\n            mode=m,\n            ax=ax[mix, ix],\n            cmap=\"viridis\",\n            vmin=0.05,  # minimum percentile\n            *args,\n            **kwargs\n        )\n\nplt.tight_layout()"
      ]
    },
    {
      "cell_type": "markdown",
      "metadata": {},
      "source": [
        ".. seealso:: `Heatscatter Plots <heatscatter.html>`__,\n             `Spider Plots <spider.html>`__,\n             `Density Diagrams <density.html>`__\n\n"
      ]
    }
  ],
  "metadata": {
    "kernelspec": {
      "display_name": "Python 3",
      "language": "python",
      "name": "python3"
    },
    "language_info": {
      "codemirror_mode": {
        "name": "ipython",
        "version": 3
      },
      "file_extension": ".py",
      "mimetype": "text/x-python",
      "name": "python",
      "nbconvert_exporter": "python",
      "pygments_lexer": "ipython3",
      "version": "3.6.7"
    }
  },
  "nbformat": 4,
  "nbformat_minor": 0
}