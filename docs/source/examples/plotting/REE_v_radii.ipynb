{
  "cells": [
    {
      "cell_type": "code",
      "execution_count": null,
      "metadata": {
        "collapsed": false
      },
      "outputs": [],
      "source": [
        "%matplotlib inline"
      ]
    },
    {
      "cell_type": "markdown",
      "metadata": {},
      "source": [
        "\nREE Radii Plots\n============================\n\n"
      ]
    },
    {
      "cell_type": "code",
      "execution_count": null,
      "metadata": {
        "collapsed": false
      },
      "outputs": [],
      "source": [
        "import pandas as pd\nimport numpy as np\nimport matplotlib.pyplot as plt\nfrom pyrolite.plot import pyroplot\nfrom pyrolite.plot.spider import REE_v_radii\nfrom pyrolite.geochem.ind import REE, get_ionic_radii"
      ]
    },
    {
      "cell_type": "markdown",
      "metadata": {},
      "source": [
        "Where data is not specified, it will return a formatted axis which can be used for\nsubsequent plotting:\n\n"
      ]
    },
    {
      "cell_type": "code",
      "execution_count": null,
      "metadata": {
        "collapsed": false
      },
      "outputs": [],
      "source": [
        "ax = REE_v_radii(index='radii') # radii mode will put ionic radii on the x axis\n\n# create some example data\nree = REE()\nxs = get_ionic_radii(ree, coordination=8, charge=3)\nys = np.linspace(1, 20, len(xs))\nax.plot(xs, ys, marker='D', color='k')\nplt.show()"
      ]
    },
    {
      "cell_type": "markdown",
      "metadata": {},
      "source": [
        "Here we generate some example data:\n\n\n"
      ]
    },
    {
      "cell_type": "code",
      "execution_count": null,
      "metadata": {
        "collapsed": false
      },
      "outputs": [],
      "source": [
        "no_analyses = 10\n\ndata_ree = REE(dropPm=True)\ndata_radii = np.array(get_ionic_radii(data_ree, coordination=8, charge=3))\ndata_radii = np.tile(data_radii, (1, no_analyses)).reshape(\n    no_analyses, data_radii.shape[0]\n)\n\ndataframes = []\n\nfor i in range(2):\n    noise = np.random.randn(*data_radii.shape) * 0.1\n    constant = -0.1\n    lin = np.tile(np.linspace(3.0, 0.0, data_radii.shape[1]), (no_analyses, 1))\n    lin = (lin.T * (1.1 + i/2 * np.random.rand(data_radii.shape[0]))).T\n    quad = -1.2 * (data_radii - 1.11) ** 2.0\n\n    lnY = noise + constant + lin + quad\n\n    for ix, el in enumerate(data_ree):\n        if el in [\"Ce\", \"Eu\"]:\n            lnY[:, ix] += np.random.rand(no_analyses) * 0.6\n\n    Y = np.exp(lnY)\n\n    df = pd.DataFrame(Y, columns=data_ree)\n    dataframes.append(df)\n\ndf1 = dataframes[0]\ndf2 = dataframes[1]"
      ]
    },
    {
      "cell_type": "markdown",
      "metadata": {},
      "source": [
        "Where data is specified, the default plot is a line-based spiderplot:\n\n"
      ]
    },
    {
      "cell_type": "code",
      "execution_count": null,
      "metadata": {
        "collapsed": false
      },
      "outputs": [],
      "source": [
        "ax = REE_v_radii(df1.values, ree=data_ree)\n\n# or, alternatively directly from the dataframe:\nax = df1.pyroplot.REE()\nplt.show()"
      ]
    },
    {
      "cell_type": "markdown",
      "metadata": {},
      "source": [
        "This behaviour can be modified (see spiderplot docs) to provide filled ranges:\n\n\n"
      ]
    },
    {
      "cell_type": "code",
      "execution_count": null,
      "metadata": {
        "collapsed": false
      },
      "outputs": [],
      "source": [
        "ax = REE_v_radii(df1.values, ree=data_ree, mode='fill')\n# or, alternatively directly from the dataframe:\nax = df1.pyroplot.REE(mode='fill')\nplt.show()"
      ]
    },
    {
      "cell_type": "markdown",
      "metadata": {},
      "source": [
        "The plotting axis can be specified to use exisiting axes:\n\n"
      ]
    },
    {
      "cell_type": "code",
      "execution_count": null,
      "metadata": {
        "collapsed": false
      },
      "outputs": [],
      "source": [
        "fig, ax = plt.subplots(1, 2, sharey=True, figsize=(12, 4))\n\ndf1.pyroplot.REE(ax=ax[0])\n# we can also change the index of the second figure\nax1 = df2.pyroplot.REE(ax=ax[1], color='k', index='radii')\nplt.tight_layout()\nplt.show()"
      ]
    },
    {
      "cell_type": "markdown",
      "metadata": {},
      "source": [
        ".. seealso:: `Visualising Orthogonal Polynomials <../lambdas/lambdavis.html>`__,\n             `Dimensional Reduction <../lambdas/lambdadimreduction.html>`__,\n             `Spider Density Diagrams <conditionaldensity.html>`__,\n\n"
      ]
    }
  ],
  "metadata": {
    "kernelspec": {
      "display_name": "Python 3",
      "language": "python",
      "name": "python3"
    },
    "language_info": {
      "codemirror_mode": {
        "name": "ipython",
        "version": 3
      },
      "file_extension": ".py",
      "mimetype": "text/x-python",
      "name": "python",
      "nbconvert_exporter": "python",
      "pygments_lexer": "ipython3",
      "version": "3.6.7"
    }
  },
  "nbformat": 4,
  "nbformat_minor": 0
}