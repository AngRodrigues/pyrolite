{
  "cells": [
    {
      "cell_type": "code",
      "execution_count": null,
      "metadata": {
        "collapsed": false
      },
      "outputs": [],
      "source": [
        "%matplotlib inline"
      ]
    },
    {
      "cell_type": "markdown",
      "metadata": {},
      "source": [
        "\nSpiderplots & Density Spiderplots\n==================================\n\n"
      ]
    },
    {
      "cell_type": "code",
      "execution_count": null,
      "metadata": {
        "collapsed": false
      },
      "outputs": [],
      "source": [
        "import numpy as np\nimport pandas as pd\nimport matplotlib.pyplot as plt"
      ]
    },
    {
      "cell_type": "markdown",
      "metadata": {},
      "source": [
        "Here we'll set up an example which uses EMORB as a starting point:\n\n\n"
      ]
    },
    {
      "cell_type": "code",
      "execution_count": null,
      "metadata": {
        "collapsed": false
      },
      "outputs": [],
      "source": [
        "from pyrolite.geochem.norm import get_reference_composition\n\nref = get_reference_composition(\"EMORB_SM89\")  # EMORB composition as a starting point\nref.set_units(\"ppm\")\ndf = ref.comp.pyrochem.compositional"
      ]
    },
    {
      "cell_type": "markdown",
      "metadata": {},
      "source": [
        "Basic spider plots are straightforward to produce:\n\n"
      ]
    },
    {
      "cell_type": "code",
      "execution_count": null,
      "metadata": {
        "collapsed": false
      },
      "outputs": [],
      "source": [
        "import pyrolite.plot\n\ndf.pyroplot.spider(color=\"k\")\nplt.show()"
      ]
    },
    {
      "cell_type": "markdown",
      "metadata": {},
      "source": [
        "Typically we'll normalise trace element compositions to a reference composition\nto be able to link the diagram to 'relative enrichement' occuring during geological\nprocesses:\n\n\n"
      ]
    },
    {
      "cell_type": "code",
      "execution_count": null,
      "metadata": {
        "collapsed": false
      },
      "outputs": [],
      "source": [
        "normdf = df.pyrochem.normalize_to(\"PM_PON\", units=\"ppm\")\nnormdf.pyroplot.spider(color=\"k\", unity_line=True)\nplt.show()"
      ]
    },
    {
      "cell_type": "markdown",
      "metadata": {},
      "source": [
        "The spiderplot can be extended to provide visualisations of ranges and density via the\nvarious modes. First let's take this composition and add some noise in log-space to\ngenerate multiple compositions about this mean (i.e. a compositional distribution):\n\n\n"
      ]
    },
    {
      "cell_type": "code",
      "execution_count": null,
      "metadata": {
        "collapsed": false
      },
      "outputs": [],
      "source": [
        "start = normdf.applymap(np.log)\nnindex, nobs = normdf.columns.size, 120\n\nnoise_level = 0.5  # sigma for noise\nx = np.arange(nindex)\ny = np.tile(start.values, nobs).reshape(nobs, nindex)\ny += np.random.normal(0, noise_level / 2.0, size=(nobs, nindex))  # noise\ny += np.random.normal(0, noise_level, size=(1, nobs)).T  # random pattern offset\n\ndistdf = pd.DataFrame(y, columns=normdf.columns)\ndistdf[\"Eu\"] += 1.0  # significant offset for Eu anomaly\ndistdf = distdf.applymap(np.exp)"
      ]
    },
    {
      "cell_type": "markdown",
      "metadata": {},
      "source": [
        "We could now plot the range of compositions as a filled range:\n\n\n"
      ]
    },
    {
      "cell_type": "code",
      "execution_count": null,
      "metadata": {
        "collapsed": false
      },
      "outputs": [],
      "source": [
        "distdf.pyroplot.spider(mode=\"fill\", color=\"green\", alpha=0.5, unity_line=True)\nplt.show()"
      ]
    },
    {
      "cell_type": "markdown",
      "metadata": {},
      "source": [
        "Alternatively, we can plot a conditional density spider plot:\n\n\n"
      ]
    },
    {
      "cell_type": "code",
      "execution_count": null,
      "metadata": {
        "collapsed": false
      },
      "outputs": [],
      "source": [
        "fig, ax = plt.subplots(2, 1, sharex=True, sharey=True, figsize=(10, 6))\n_ = distdf.pyroplot.spider(ax=ax[0], color=\"k\", alpha=0.05, unity_line=True)\n_ = distdf.pyroplot.spider(\n    ax=ax[1],\n    mode=\"binkde\",\n    cmap=\"viridis\",\n    vmin=0.05,  # minimum percentile,\n    resolution=10,\n    unity_line=True\n)"
      ]
    },
    {
      "cell_type": "markdown",
      "metadata": {},
      "source": [
        "We can now assemble a more complete comparison of some of the conditional density\nmodes for spider plots:\n\n\n"
      ]
    },
    {
      "cell_type": "code",
      "execution_count": null,
      "metadata": {
        "collapsed": false
      },
      "outputs": [],
      "source": [
        "modes = [\n    (\"plot\", \"plot\", [], dict(color=\"k\", alpha=0.01)),\n    (\"fill\", \"fill\", [], dict(color=\"k\", alpha=0.5)),\n    (\"binkde\", \"binkde\", [], dict(resolution=10)),\n    (\n        \"binkde\",\n        \"binkde contours specified\",\n        [],\n        dict(contours=[0.95], resolution=10),  # 95th percentile contour\n    ),\n    (\"histogram\", \"histogram\", [], dict(resolution=5, ybins=30)),\n]"
      ]
    },
    {
      "cell_type": "code",
      "execution_count": null,
      "metadata": {
        "collapsed": false
      },
      "outputs": [],
      "source": [
        "down, across = len(modes), 1\nfig, ax = plt.subplots(\n    down, across, sharey=True, sharex=True, figsize=(across * 8, 2 * down)\n)\n\nfor a, (m, name, args, kwargs) in zip(ax, modes):\n    a.annotate(  # label the axes rows\n        \"Mode: {}\".format(name),\n        xy=(0.1, 1.05),\n        xycoords=a.transAxes,\n        fontsize=8,\n        ha=\"left\",\n        va=\"bottom\",\n    )\nax = ax.flat\nfor mix, (m, name, args, kwargs) in enumerate(modes):\n    distdf.pyroplot.spider(\n        mode=m,\n        ax=ax[mix],\n        cmap=\"viridis\",\n        vmin=0.05,  # minimum percentile\n        fontsize=8,\n        unity_line=True,\n        *args,\n        **kwargs\n    )\n\nplt.tight_layout()"
      ]
    },
    {
      "cell_type": "markdown",
      "metadata": {},
      "source": [
        ".. seealso:: `Heatscatter Plots <heatscatter.html>`__,\n             `Density Diagrams <density.html>`__\n\n"
      ]
    }
  ],
  "metadata": {
    "kernelspec": {
      "display_name": "Python 3",
      "language": "python",
      "name": "python3"
    },
    "language_info": {
      "codemirror_mode": {
        "name": "ipython",
        "version": 3
      },
      "file_extension": ".py",
      "mimetype": "text/x-python",
      "name": "python",
      "nbconvert_exporter": "python",
      "pygments_lexer": "ipython3",
      "version": "3.6.7"
    }
  },
  "nbformat": 4,
  "nbformat_minor": 0
}