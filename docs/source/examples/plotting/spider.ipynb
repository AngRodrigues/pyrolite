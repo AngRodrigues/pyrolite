{
  "cells": [
    {
      "cell_type": "code",
      "execution_count": null,
      "metadata": {
        "collapsed": false
      },
      "outputs": [],
      "source": [
        "%matplotlib inline"
      ]
    },
    {
      "cell_type": "markdown",
      "metadata": {},
      "source": [
        "\nSpider Plots\n==============\n\n"
      ]
    },
    {
      "cell_type": "code",
      "execution_count": null,
      "metadata": {
        "collapsed": false
      },
      "outputs": [],
      "source": [
        "import pandas as pd\nimport numpy as np\nimport matplotlib.pyplot as plt\nfrom pyrolite.plot import pyroplot\nfrom pyrolite.plot.spider import spider\nfrom pyrolite.geochem.ind import common_elements\n\nnp.random.seed(82)"
      ]
    },
    {
      "cell_type": "code",
      "execution_count": null,
      "metadata": {
        "collapsed": false
      },
      "outputs": [],
      "source": [
        "els = common_elements(cutoff=47)[10:]\nys = np.random.rand(3, len(els))\nys = np.exp(ys)\ndf = pd.DataFrame(data=ys, columns=els)\n\nax = df.loc[0, :].pyroplot.spider(color=\"k\")\nax.set_ylabel(\"Abundance\")\nplt.show()"
      ]
    },
    {
      "cell_type": "markdown",
      "metadata": {},
      "source": [
        "This behaviour can be modified (see spider docs) to provide filled ranges:\n\n"
      ]
    },
    {
      "cell_type": "code",
      "execution_count": null,
      "metadata": {
        "collapsed": false
      },
      "outputs": [],
      "source": [
        "ax = df.pyroplot.spider(mode=\"fill\", color=\"k\", alpha=0.5)\nax.set_ylabel(\"Abundance\")\nplt.show()"
      ]
    },
    {
      "cell_type": "markdown",
      "metadata": {},
      "source": [
        "The plotting axis can be specified to use exisiting axes:\n\n"
      ]
    },
    {
      "cell_type": "code",
      "execution_count": null,
      "metadata": {
        "collapsed": false
      },
      "outputs": [],
      "source": [
        "fig, ax = plt.subplots(2, 1, sharex=True, sharey=True, figsize=(10, 6))\nax[0].set_ylabel(\"Abundance\")\n\ndf.pyroplot.spider(ax=ax[0], color=\"k\")\ndf.pyroplot.spider(ax=ax[1], mode=\"fill\", color=\"k\", alpha=0.5)\n\nplt.tight_layout()"
      ]
    },
    {
      "cell_type": "markdown",
      "metadata": {},
      "source": [
        "Spidergrams are most commonly used to disply normalised abundances. This is easily\naccomplished using :mod:`pyrolite.geochem.norm`:\n\n"
      ]
    },
    {
      "cell_type": "code",
      "execution_count": null,
      "metadata": {
        "collapsed": false
      },
      "outputs": [],
      "source": [
        "normdf = df.pyrochem.normalize_to(\"Chondrite_PON\", units=\"ppm\")\n\nax = spider(normdf.values, color=\"k\")\n# or, alternatively directly from the dataframe:\nax = normdf.pyroplot.spider(color=\"k\")\n\nax.set_ylabel(\"Abundance / Chondrite\")\nplt.show()"
      ]
    },
    {
      "cell_type": "markdown",
      "metadata": {},
      "source": [
        ".. seealso:: `Spider Density Diagrams <conditionaldensity.html>`__,\n             `Normalisation <../geochem/normalization.html>`__,\n             `REE Radii Plot <REE_v_radii.html>`__,\n             `REE Dimensional Reduction <../lambdas/lambdadimreduction.html>`__\n\n"
      ]
    }
  ],
  "metadata": {
    "kernelspec": {
      "display_name": "Python 3",
      "language": "python",
      "name": "python3"
    },
    "language_info": {
      "codemirror_mode": {
        "name": "ipython",
        "version": 3
      },
      "file_extension": ".py",
      "mimetype": "text/x-python",
      "name": "python",
      "nbconvert_exporter": "python",
      "pygments_lexer": "ipython3",
      "version": "3.6.7"
    }
  },
  "nbformat": 4,
  "nbformat_minor": 0
}