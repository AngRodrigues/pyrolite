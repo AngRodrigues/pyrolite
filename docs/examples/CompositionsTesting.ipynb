{
 "cells": [
  {
   "cell_type": "code",
   "execution_count": 45,
   "metadata": {},
   "outputs": [],
   "source": [
    "import numpy as np\n",
    "import pandas as pd"
   ]
  },
  {
   "cell_type": "code",
   "execution_count": 49,
   "metadata": {},
   "outputs": [
    {
     "name": "stdout",
     "output_type": "stream",
     "text": [
      "       SiO2       CaO       MgO       FeO      TiO2\n",
      "0  0.475298       NaN  0.107144  0.561444  0.480161\n",
      "1  0.858653  0.644664  0.057994  0.689687  0.708133\n",
      "2  0.116973  0.730179  0.671093  0.583474  0.892287\n",
      "3  0.352435  0.982656  0.917918  0.876342  0.794148\n",
      "4  0.764697       NaN  0.006021  0.569915  0.539318\n",
      "5  0.390501  0.086505  0.189624  0.919586  0.065146\n",
      "6  0.355601  0.606177  0.722479  0.378245  0.446332\n",
      "7  0.996604  0.665662  0.144942  0.941170  0.646824\n",
      "8  0.457336  0.064027  0.958993  0.190874  0.499648\n",
      "9  0.418470  0.964053  0.319611  0.312913  0.401621\n"
     ]
    }
   ],
   "source": [
    "cols = ['SiO2', 'CaO', 'MgO', 'FeO', 'TiO2']\n",
    "df = pd.DataFrame({k: v for k,v in zip(cols, np.random.rand(len(cols), 10))})\n",
    "df.iloc[np.random.randint(0, 10, size=2), np.random.randint(1, len(cols), size=2)] = np.nan\n",
    "print(df)"
   ]
  },
  {
   "cell_type": "code",
   "execution_count": 50,
   "metadata": {},
   "outputs": [
    {
     "name": "stdout",
     "output_type": "stream",
     "text": [
      "[0.4752983         nan 0.10714356 0.56144377 0.48016055]\n",
      "[0.51865681 0.59299036 0.40958174 0.60236501 0.54736166]\n",
      "[[0.4752983         nan 0.10714356 0.56144377 0.48016055]\n",
      " [0.85865333 0.64466372 0.05799401 0.68968697 0.708133  ]\n",
      " [0.11697315 0.73017888 0.67109252 0.58347444 0.89228712]\n",
      " [0.35243476 0.9826564  0.91791809 0.87634181 0.79414821]\n",
      " [0.76469697        nan 0.00602052 0.5699146  0.53931776]\n",
      " [0.39050063 0.08650495 0.18962352 0.91958593 0.06514596]\n",
      " [0.35560068 0.60617661 0.72247896 0.37824474 0.44633158]\n",
      " [0.99660431 0.66566216 0.14494157 0.94117036 0.64682362]\n",
      " [0.45733588 0.06402732 0.95899329 0.19087446 0.49964813]\n",
      " [0.41847009 0.96405283 0.31961137 0.312913   0.40162065]]\n"
     ]
    },
    {
     "name": "stderr",
     "output_type": "stream",
     "text": [
      "C:\\ProgramData\\Anaconda3_64\\envs\\pyrolite\\lib\\site-packages\\ipykernel_launcher.py:15: RuntimeWarning: Mean of empty slice\n",
      "  from ipykernel import kernelapp as app\n"
     ]
    }
   ],
   "source": [
    "for arr in [df.head(1).values,\n",
    "            df.values,\n",
    "            np.array([df.values, df.values])\n",
    "           ]:\n",
    "    print(nan_weighted_mean(arr))"
   ]
  },
  {
   "cell_type": "code",
   "execution_count": null,
   "metadata": {},
   "outputs": [],
   "source": []
  }
 ],
 "metadata": {
  "kernelspec": {
   "display_name": "Python 3",
   "language": "python",
   "name": "python3"
  },
  "language_info": {
   "codemirror_mode": {
    "name": "ipython",
    "version": 3
   },
   "file_extension": ".py",
   "mimetype": "text/x-python",
   "name": "python",
   "nbconvert_exporter": "python",
   "pygments_lexer": "ipython3",
   "version": "3.6.5"
  }
 },
 "nbformat": 4,
 "nbformat_minor": 2
}
