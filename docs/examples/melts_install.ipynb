{
 "cells": [
  {
   "cell_type": "code",
   "execution_count": 1,
   "metadata": {},
   "outputs": [],
   "source": [
    "from pyrolite.util.melts import *\n",
    "import os\n",
    "from pathlib import Path"
   ]
  },
  {
   "cell_type": "code",
   "execution_count": 4,
   "metadata": {},
   "outputs": [
    {
     "name": "stdout",
     "output_type": "stream",
     "text": [
      "Downloading Melts\n",
      "Installing to C:\\Users\\WIL9DH\\Documents\\melts from C:\\Users\\WIL9DH\\temp\\temp_melts\n",
      "Copying from C:\\Users\\WIL9DH\\temp\\temp_melts\\column_pick.bat to C:\\Users\\WIL9DH\\Documents\\melts\\column_pick.bat\n",
      "Copying from C:\\Users\\WIL9DH\\temp\\temp_melts\\file_format.bat to C:\\Users\\WIL9DH\\Documents\\melts\\file_format.bat\n",
      "Copying from C:\\Users\\WIL9DH\\temp\\temp_melts\\run_alphamelts.bat to C:\\Users\\WIL9DH\\Documents\\melts\\run_alphamelts.bat\n",
      "Copying from C:\\Users\\WIL9DH\\temp\\temp_melts\\alphamelts.bat to C:\\Users\\WIL9DH\\Documents\\melts\\alphamelts.bat\n",
      "Copying from C:\\Users\\WIL9DH\\temp\\temp_melts\\Amoeba.melts to C:\\Users\\WIL9DH\\Documents\\melts\\examples\\Amoeba.melts\n",
      "Copying from C:\\Users\\WIL9DH\\temp\\temp_melts\\McKenzie_ONions_DM.melts to C:\\Users\\WIL9DH\\Documents\\melts\\examples\\McKenzie_ONions_DM.melts\n",
      "Copying from C:\\Users\\WIL9DH\\temp\\temp_melts\\McKenzie_ONions_PM.melts to C:\\Users\\WIL9DH\\Documents\\melts\\examples\\McKenzie_ONions_PM.melts\n",
      "Copying from C:\\Users\\WIL9DH\\temp\\temp_melts\\Morb.melts to C:\\Users\\WIL9DH\\Documents\\melts\\examples\\Morb.melts\n",
      "Copying from C:\\Users\\WIL9DH\\temp\\temp_melts\\Sun_McDonough_PM.melts to C:\\Users\\WIL9DH\\Documents\\melts\\examples\\Sun_McDonough_PM.melts\n",
      "Copying from C:\\Users\\WIL9DH\\temp\\temp_melts\\Workman_Hart_DMM.melts to C:\\Users\\WIL9DH\\Documents\\melts\\examples\\Workman_Hart_DMM.melts\n",
      "Copying from C:\\Users\\WIL9DH\\temp\\temp_melts\\alphamelts_default_env.txt to C:\\Users\\WIL9DH\\Documents\\melts\\examples\\alphamelts_default_env.txt\n",
      "Copying from C:\\Users\\WIL9DH\\temp\\temp_melts\\default_trace_data.txt to C:\\Users\\WIL9DH\\Documents\\melts\\examples\\default_trace_data.txt\n",
      "Copying from C:\\Users\\WIL9DH\\temp\\temp_melts\\frac_xtal_env.txt to C:\\Users\\WIL9DH\\Documents\\melts\\examples\\frac_xtal_env.txt\n",
      "Copying from C:\\Users\\WIL9DH\\temp\\temp_melts\\isentropic_melt_env.txt to C:\\Users\\WIL9DH\\Documents\\melts\\examples\\isentropic_melt_env.txt\n",
      "Copying from C:\\Users\\WIL9DH\\temp\\temp_melts\\column_pick.command to C:\\Users\\WIL9DH\\Documents\\melts\\column_pick.command\n",
      "Copying from C:\\Users\\WIL9DH\\temp\\temp_melts\\file_format.command to C:\\Users\\WIL9DH\\Documents\\melts\\file_format.command\n",
      "Copying from C:\\Users\\WIL9DH\\temp\\temp_melts\\run_alphamelts.command to C:\\Users\\WIL9DH\\Documents\\melts\\run_alphamelts.command\n",
      "Copying from C:\\Users\\WIL9DH\\temp\\temp_melts\\alphamelts_win64.exe to C:\\Users\\WIL9DH\\Documents\\melts\\alphamelts_win64.exe\n"
     ]
    }
   ],
   "source": [
    "install_dir = Path(\"~\").expanduser() / 'Documents' / 'melts'\n",
    "link_dir = install_dir\n",
    "eg_dir = install_dir / 'examples'\n",
    "temp_dir = Path(\"~\").expanduser()/'temp'/'temp_melts'\n",
    "install_melts(install_dir, link_dir=link_dir, eg_dir=eg_dir, native=True, temp_dir=temp_dir, keep_tempdir=False)\n",
    "# if you get 'Permission Errors' for the alphamelts executable, it's probably because it's still running after an error."
   ]
  },
  {
   "cell_type": "code",
   "execution_count": 7,
   "metadata": {},
   "outputs": [
    {
     "data": {
      "text/plain": [
       "0"
      ]
     },
     "execution_count": 7,
     "metadata": {},
     "output_type": "execute_result"
    }
   ],
   "source": []
  },
  {
   "cell_type": "code",
   "execution_count": null,
   "metadata": {},
   "outputs": [],
   "source": []
  }
 ],
 "metadata": {
  "kernelspec": {
   "display_name": "Python 3",
   "language": "python",
   "name": "python3"
  },
  "language_info": {
   "codemirror_mode": {
    "name": "ipython",
    "version": 3
   },
   "file_extension": ".py",
   "mimetype": "text/x-python",
   "name": "python",
   "nbconvert_exporter": "python",
   "pygments_lexer": "ipython3",
   "version": "3.6.4"
  }
 },
 "nbformat": 4,
 "nbformat_minor": 2
}
