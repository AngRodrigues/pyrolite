{
 "cells": [
  {
   "cell_type": "code",
   "execution_count": null,
   "metadata": {},
   "outputs": [],
   "source": [
    "from pyrolite.geochem import common_elements as ce\n",
    "from pyrolite.geochem import common_oxides as co\n",
    "from pyrolite.geochem import REE as ree\n",
    "from pyrolite.geochem import recalculate_redox\n",
    "from pyrolite.normalisation import ReferenceCompositions\n",
    "import pandas as pd\n",
    "import numpy as np"
   ]
  },
  {
   "cell_type": "code",
   "execution_count": null,
   "metadata": {},
   "outputs": [],
   "source": [
    "from pyrolite.plot import densityplot\n",
    "from numpy.random import multivariate_normal\n",
    "\n",
    "bidata = multivariate_normal([0.5, 2],[[1, 2], [-0.5, 1]], 2000)\n",
    "bidf = pd.DataFrame(bidata, columns=['MgO', 'SiO2'])\n",
    "tridata = multivariate_normal([0.5, 0.4, 0.3],[[1, 2, -0.3], [-0.5, 1, 0.3], [0.5, 0.4, 1]], 2000)\n",
    "tridf = pd.DataFrame(tridata, columns=['MgO', 'SiO2', 'CaO'])\n",
    "for mode in ['density', 'hist2d', 'hexbin']:\n",
    "    densityplot(bidf, mode=mode)\n",
    "densityplot(tridf, scale=10)"
   ]
  },
  {
   "cell_type": "code",
   "execution_count": null,
   "metadata": {},
   "outputs": [],
   "source": [
    "from pyrolite.plot import spiderplot\n",
    "refcomp = ReferenceCompositions()\n",
    "CH = refcomp['Chondrite_PON']\n",
    "DMM = refcomp['DMM_WH']\n",
    "\n",
    "reels = ree(output='str')\n",
    "df = DMM.data.loc[reels, ['value']]\n",
    "spiderplot(CH.normalize(df), label=f'{DMM.Reference}')"
   ]
  },
  {
   "cell_type": "code",
   "execution_count": null,
   "metadata": {},
   "outputs": [],
   "source": [
    "import matplotlib.pyplot as plt\n",
    "\n",
    "elements = ['Cs','Rb','Ba','Th','U','Nb','Pb','Zr','Sr','P','Hf','Ti','Li',\n",
    "            'La','Ce','Pr','Nd','Sm','Eu','Gd','Tb','Dy','Ho','Er','Tm','Yb','Lu',\n",
    "            'Y',#'Ca','V','Sc','Mn','Mg','Cr','Ni'\n",
    "           ]\n",
    "\n",
    "fig, ax = plt.subplots(2, 1, figsize=(12, 10))\n",
    "ax[0].set_ylabel('Abundance (ppm)')\n",
    "ax[1].set_ylabel('Relative Abundance / Chondrite')\n",
    "refdb = ReferenceCompositions()\n",
    "for dmm in [refdb['DMM_WH'], refdb['DM_SS']]:\n",
    "    df1 = pd.Series({el: dmm[el].value for el in elements}) # Depleted mantle pattern\n",
    "    spiderplot(df1, elements, ax=ax[0], label=dmm.Reference)\n",
    "    df2 = pd.Series({el: dmm[el].value/CH[el].value for el in elements}) # Normalised depleted mantle pattern\n",
    "    spiderplot(df2, elements, ax=ax[1], label=dmm.Reference)\n",
    "\n",
    "for a in ax:\n",
    "    a.set_xticks(np.arange(len(elements)+1))\n",
    "    a.set_xticklabels(elements)\n",
    "    a.axhline(1, color='k', zorder=-1, alpha=0.5)\n",
    "    a.set_yscale('log')\n",
    "    a.legend(frameon=False, loc='lower right', bbox_to_anchor=(1,0))"
   ]
  }
 ],
 "metadata": {
  "kernelspec": {
   "display_name": "Python 3",
   "language": "python",
   "name": "python3"
  },
  "language_info": {
   "codemirror_mode": {
    "name": "ipython",
    "version": 3
   },
   "file_extension": ".py",
   "mimetype": "text/x-python",
   "name": "python",
   "nbconvert_exporter": "python",
   "pygments_lexer": "ipython3",
   "version": "3.6.5"
  }
 },
 "nbformat": 4,
 "nbformat_minor": 2
}
